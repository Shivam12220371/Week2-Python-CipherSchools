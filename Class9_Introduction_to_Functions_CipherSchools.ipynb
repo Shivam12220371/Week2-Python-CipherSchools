{
  "nbformat": 4,
  "nbformat_minor": 0,
  "metadata": {
    "colab": {
      "provenance": [],
      "authorship_tag": "ABX9TyNIbZwHBuTVzffANIzIjgjY",
      "include_colab_link": true
    },
    "kernelspec": {
      "name": "python3",
      "display_name": "Python 3"
    },
    "language_info": {
      "name": "python"
    }
  },
  "cells": [
    {
      "cell_type": "markdown",
      "metadata": {
        "id": "view-in-github",
        "colab_type": "text"
      },
      "source": [
        "<a href=\"https://colab.research.google.com/github/Shivam12220371/Week2-Python-CipherSchools/blob/main/Class9_Introduction_to_Functions_CipherSchools.ipynb\" target=\"_parent\"><img src=\"https://colab.research.google.com/assets/colab-badge.svg\" alt=\"Open In Colab\"/></a>"
      ]
    },
    {
      "cell_type": "code",
      "source": [
        "x = 6\n",
        "x = 'Jatin'\n",
        "x = 1.5\n",
        "x = print"
      ],
      "metadata": {
        "id": "I-ebmymvuzLb"
      },
      "execution_count": null,
      "outputs": []
    },
    {
      "cell_type": "code",
      "source": [
        "def show_loading():\n",
        "  for i in range(3):\n",
        "    print('waiting', '.'*(i+1))"
      ],
      "metadata": {
        "id": "Cms4IsM7vHlX"
      },
      "execution_count": null,
      "outputs": []
    },
    {
      "cell_type": "code",
      "source": [
        "show_loading()"
      ],
      "metadata": {
        "colab": {
          "base_uri": "https://localhost:8080/"
        },
        "id": "TQ8dyfiPzgUg",
        "outputId": "f5dfe4bf-4352-4733-dbb9-cfb778781689"
      },
      "execution_count": null,
      "outputs": [
        {
          "output_type": "stream",
          "name": "stdout",
          "text": [
            "waiting .\n",
            "waiting ..\n",
            "waiting ...\n"
          ]
        }
      ]
    },
    {
      "cell_type": "code",
      "source": [
        "a = 5\n",
        "b = 7\n",
        "\n",
        "print(a+b)\n",
        "show_loading()\n",
        "\n",
        "print(a-b)\n",
        "show_loading()\n",
        "\n",
        "print(a*b)\n",
        "show_loading()"
      ],
      "metadata": {
        "colab": {
          "base_uri": "https://localhost:8080/"
        },
        "id": "Cq1Nr-8IwlRJ",
        "outputId": "36b063b1-1d02-4a39-d92f-b04d07fbb9c9"
      },
      "execution_count": null,
      "outputs": [
        {
          "output_type": "stream",
          "name": "stdout",
          "text": [
            "12\n",
            "waiting....\n",
            "waiting....\n",
            "waiting....\n",
            "-2\n",
            "waiting....\n",
            "waiting....\n",
            "waiting....\n",
            "35\n",
            "waiting....\n",
            "waiting....\n",
            "waiting....\n"
          ]
        }
      ]
    },
    {
      "cell_type": "code",
      "source": [
        "# Function can take Parameters\n",
        "def sheldon_knock(name):\n",
        "  for _ in range(3):\n",
        "    print('knock knock knock',name)"
      ],
      "metadata": {
        "id": "Aifxp7ogxLVv"
      },
      "execution_count": null,
      "outputs": []
    },
    {
      "cell_type": "code",
      "source": [
        "sheldon_knock('leopord')"
      ],
      "metadata": {
        "colab": {
          "base_uri": "https://localhost:8080/"
        },
        "id": "zX2nww6W1yub",
        "outputId": "8994bbbb-3ca2-4b11-ee0a-a77da0bda07d"
      },
      "execution_count": null,
      "outputs": [
        {
          "output_type": "stream",
          "name": "stdout",
          "text": [
            "knock knock knock leopord\n",
            "knock knock knock leopord\n",
            "knock knock knock leopord\n"
          ]
        }
      ]
    },
    {
      "cell_type": "code",
      "source": [
        "def sheldon_knock(name, times = 3):\n",
        "  for i in range(times):\n",
        "    print(\"knock knock knock\",name)\n",
        "\n",
        "sheldon_knock('penny',100)"
      ],
      "metadata": {
        "colab": {
          "base_uri": "https://localhost:8080/"
        },
        "id": "hyxRM8Bk58t5",
        "outputId": "be7e6e92-9ffd-463b-bd22-1607bde83826"
      },
      "execution_count": null,
      "outputs": [
        {
          "output_type": "stream",
          "name": "stdout",
          "text": [
            "knock knock knock penny\n",
            "knock knock knock penny\n",
            "knock knock knock penny\n",
            "knock knock knock penny\n",
            "knock knock knock penny\n",
            "knock knock knock penny\n",
            "knock knock knock penny\n",
            "knock knock knock penny\n",
            "knock knock knock penny\n",
            "knock knock knock penny\n",
            "knock knock knock penny\n",
            "knock knock knock penny\n",
            "knock knock knock penny\n",
            "knock knock knock penny\n",
            "knock knock knock penny\n",
            "knock knock knock penny\n",
            "knock knock knock penny\n",
            "knock knock knock penny\n",
            "knock knock knock penny\n",
            "knock knock knock penny\n",
            "knock knock knock penny\n",
            "knock knock knock penny\n",
            "knock knock knock penny\n",
            "knock knock knock penny\n",
            "knock knock knock penny\n",
            "knock knock knock penny\n",
            "knock knock knock penny\n",
            "knock knock knock penny\n",
            "knock knock knock penny\n",
            "knock knock knock penny\n",
            "knock knock knock penny\n",
            "knock knock knock penny\n",
            "knock knock knock penny\n",
            "knock knock knock penny\n",
            "knock knock knock penny\n",
            "knock knock knock penny\n",
            "knock knock knock penny\n",
            "knock knock knock penny\n",
            "knock knock knock penny\n",
            "knock knock knock penny\n",
            "knock knock knock penny\n",
            "knock knock knock penny\n",
            "knock knock knock penny\n",
            "knock knock knock penny\n",
            "knock knock knock penny\n",
            "knock knock knock penny\n",
            "knock knock knock penny\n",
            "knock knock knock penny\n",
            "knock knock knock penny\n",
            "knock knock knock penny\n",
            "knock knock knock penny\n",
            "knock knock knock penny\n",
            "knock knock knock penny\n",
            "knock knock knock penny\n",
            "knock knock knock penny\n",
            "knock knock knock penny\n",
            "knock knock knock penny\n",
            "knock knock knock penny\n",
            "knock knock knock penny\n",
            "knock knock knock penny\n",
            "knock knock knock penny\n",
            "knock knock knock penny\n",
            "knock knock knock penny\n",
            "knock knock knock penny\n",
            "knock knock knock penny\n",
            "knock knock knock penny\n",
            "knock knock knock penny\n",
            "knock knock knock penny\n",
            "knock knock knock penny\n",
            "knock knock knock penny\n",
            "knock knock knock penny\n",
            "knock knock knock penny\n",
            "knock knock knock penny\n",
            "knock knock knock penny\n",
            "knock knock knock penny\n",
            "knock knock knock penny\n",
            "knock knock knock penny\n",
            "knock knock knock penny\n",
            "knock knock knock penny\n",
            "knock knock knock penny\n",
            "knock knock knock penny\n",
            "knock knock knock penny\n",
            "knock knock knock penny\n",
            "knock knock knock penny\n",
            "knock knock knock penny\n",
            "knock knock knock penny\n",
            "knock knock knock penny\n",
            "knock knock knock penny\n",
            "knock knock knock penny\n",
            "knock knock knock penny\n",
            "knock knock knock penny\n",
            "knock knock knock penny\n",
            "knock knock knock penny\n",
            "knock knock knock penny\n",
            "knock knock knock penny\n",
            "knock knock knock penny\n",
            "knock knock knock penny\n",
            "knock knock knock penny\n",
            "knock knock knock penny\n",
            "knock knock knock penny\n"
          ]
        }
      ]
    },
    {
      "cell_type": "code",
      "source": [
        "# Return statement\n",
        "def add(a, b):\n",
        "  return a + b\n",
        "\n",
        "a = add(1, 2)\n",
        "print(a)"
      ],
      "metadata": {
        "colab": {
          "base_uri": "https://localhost:8080/"
        },
        "id": "kwKuezKI6-my",
        "outputId": "8893b4dc-36fc-411a-af60-894676cd9ccd"
      },
      "execution_count": null,
      "outputs": [
        {
          "output_type": "stream",
          "name": "stdout",
          "text": [
            "3\n"
          ]
        }
      ]
    }
  ]
}