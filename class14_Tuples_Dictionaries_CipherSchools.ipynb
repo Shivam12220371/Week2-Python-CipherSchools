{
  "nbformat": 4,
  "nbformat_minor": 0,
  "metadata": {
    "colab": {
      "provenance": [],
      "authorship_tag": "ABX9TyPCnzaVXndbvCZrdlyerZcj",
      "include_colab_link": true
    },
    "kernelspec": {
      "name": "python3",
      "display_name": "Python 3"
    },
    "language_info": {
      "name": "python"
    }
  },
  "cells": [
    {
      "cell_type": "markdown",
      "metadata": {
        "id": "view-in-github",
        "colab_type": "text"
      },
      "source": [
        "<a href=\"https://colab.research.google.com/github/Shivam12220371/Week2-Python-CipherSchools/blob/main/class14_Tuples_Dictionaries_CipherSchools.ipynb\" target=\"_parent\"><img src=\"https://colab.research.google.com/assets/colab-badge.svg\" alt=\"Open In Colab\"/></a>"
      ]
    },
    {
      "cell_type": "code",
      "execution_count": 1,
      "metadata": {
        "colab": {
          "base_uri": "https://localhost:8080/"
        },
        "id": "NOWZ4dYp0le3",
        "outputId": "7982fa90-13d0-49b4-b370-3e68a9eb8202"
      },
      "outputs": [
        {
          "output_type": "execute_result",
          "data": {
            "text/plain": [
              "[100, 2, 200]"
            ]
          },
          "metadata": {},
          "execution_count": 1
        }
      ],
      "source": [
        "a=[1,2,3]\n",
        "a[0]=100\n",
        "a[2]=200\n",
        "a"
      ]
    },
    {
      "cell_type": "code",
      "source": [
        "a=(1,2,3,4,5,6)\n",
        "type(a)"
      ],
      "metadata": {
        "colab": {
          "base_uri": "https://localhost:8080/"
        },
        "id": "SJe47cM3tHXV",
        "outputId": "0cdd750d-11e3-4293-bc4d-ee2a39e7dd74"
      },
      "execution_count": 2,
      "outputs": [
        {
          "output_type": "execute_result",
          "data": {
            "text/plain": [
              "tuple"
            ]
          },
          "metadata": {},
          "execution_count": 2
        }
      ]
    },
    {
      "cell_type": "code",
      "source": [
        "a[0]=10\n",
        "a"
      ],
      "metadata": {
        "colab": {
          "base_uri": "https://localhost:8080/",
          "height": 183
        },
        "id": "mH_WtZDbtJnh",
        "outputId": "b287e5cc-befa-4893-e138-4d244e145d7b"
      },
      "execution_count": 3,
      "outputs": [
        {
          "output_type": "error",
          "ename": "TypeError",
          "evalue": "ignored",
          "traceback": [
            "\u001b[0;31m---------------------------------------------------------------------------\u001b[0m",
            "\u001b[0;31mTypeError\u001b[0m                                 Traceback (most recent call last)",
            "\u001b[0;32m<ipython-input-3-bd906bcc60c5>\u001b[0m in \u001b[0;36m<module>\u001b[0;34m\u001b[0m\n\u001b[0;32m----> 1\u001b[0;31m \u001b[0ma\u001b[0m\u001b[0;34m[\u001b[0m\u001b[0;36m0\u001b[0m\u001b[0;34m]\u001b[0m\u001b[0;34m=\u001b[0m\u001b[0;36m10\u001b[0m\u001b[0;34m\u001b[0m\u001b[0;34m\u001b[0m\u001b[0m\n\u001b[0m\u001b[1;32m      2\u001b[0m \u001b[0ma\u001b[0m\u001b[0;34m\u001b[0m\u001b[0;34m\u001b[0m\u001b[0m\n",
            "\u001b[0;31mTypeError\u001b[0m: 'tuple' object does not support item assignment"
          ]
        }
      ]
    },
    {
      "cell_type": "code",
      "source": [
        "def func(*args):\n",
        "  print(type(args))\n",
        "func(1,2,3)"
      ],
      "metadata": {
        "colab": {
          "base_uri": "https://localhost:8080/"
        },
        "id": "1KRWZ5rGtL6R",
        "outputId": "0f353a0c-01cb-4b57-999b-f6bf70c2439d"
      },
      "execution_count": 4,
      "outputs": [
        {
          "output_type": "stream",
          "name": "stdout",
          "text": [
            "<class 'tuple'>\n"
          ]
        }
      ]
    },
    {
      "cell_type": "code",
      "source": [
        "a=5\n",
        "b=9\n",
        "a,b=b,a\n",
        "c=a,b\n",
        "type(c)"
      ],
      "metadata": {
        "colab": {
          "base_uri": "https://localhost:8080/"
        },
        "id": "Bl-WU_z0tOtY",
        "outputId": "752cd1c0-aeba-4e6b-d40a-69471deaaec7"
      },
      "execution_count": 5,
      "outputs": [
        {
          "output_type": "execute_result",
          "data": {
            "text/plain": [
              "tuple"
            ]
          },
          "metadata": {},
          "execution_count": 5
        }
      ]
    },
    {
      "cell_type": "code",
      "source": [
        "def add_sum(a,b):\n",
        "  s=a+b\n",
        "  d=a-b\n",
        "  return s,d\n",
        "c=add_sum(10,5)\n",
        "print(type(c))\n",
        "print(c)\n",
        "s,d=add_sum(10,5)\n",
        "print(s,d)"
      ],
      "metadata": {
        "colab": {
          "base_uri": "https://localhost:8080/"
        },
        "id": "76U2ra3ItRwy",
        "outputId": "daacd6c7-6438-4f6b-93f6-c255b6ca222e"
      },
      "execution_count": 6,
      "outputs": [
        {
          "output_type": "stream",
          "name": "stdout",
          "text": [
            "<class 'tuple'>\n",
            "(15, 5)\n",
            "15 5\n"
          ]
        }
      ]
    },
    {
      "cell_type": "code",
      "source": [
        "a=1,2,3,4\n",
        "type(a)"
      ],
      "metadata": {
        "colab": {
          "base_uri": "https://localhost:8080/"
        },
        "id": "-jEzDDZLtUSc",
        "outputId": "7e7684e7-4eba-4138-c020-a5d0a1bb88aa"
      },
      "execution_count": 7,
      "outputs": [
        {
          "output_type": "execute_result",
          "data": {
            "text/plain": [
              "tuple"
            ]
          },
          "metadata": {},
          "execution_count": 7
        }
      ]
    },
    {
      "cell_type": "code",
      "source": [
        "#@title List to tuple and tuple to list\n",
        "a=(1,2,3,4)\n",
        "list(a)"
      ],
      "metadata": {
        "colab": {
          "base_uri": "https://localhost:8080/"
        },
        "id": "UckE0svWtWPo",
        "outputId": "8f39e139-e952-4503-8ab4-41fe0a191180"
      },
      "execution_count": 8,
      "outputs": [
        {
          "output_type": "execute_result",
          "data": {
            "text/plain": [
              "[1, 2, 3, 4]"
            ]
          },
          "metadata": {},
          "execution_count": 8
        }
      ]
    },
    {
      "cell_type": "code",
      "source": [
        "list(range(5))"
      ],
      "metadata": {
        "colab": {
          "base_uri": "https://localhost:8080/"
        },
        "id": "Yha5FLeDtZH5",
        "outputId": "3d24724b-a1ac-405f-8cf9-be5b4a3391a8"
      },
      "execution_count": 9,
      "outputs": [
        {
          "output_type": "execute_result",
          "data": {
            "text/plain": [
              "[0, 1, 2, 3, 4]"
            ]
          },
          "metadata": {},
          "execution_count": 9
        }
      ]
    },
    {
      "cell_type": "code",
      "source": [
        "tuple(range(5))"
      ],
      "metadata": {
        "colab": {
          "base_uri": "https://localhost:8080/"
        },
        "id": "oqwu4FBJta_q",
        "outputId": "2cfd9d0d-4153-4281-e201-183d07539bd1"
      },
      "execution_count": 10,
      "outputs": [
        {
          "output_type": "execute_result",
          "data": {
            "text/plain": [
              "(0, 1, 2, 3, 4)"
            ]
          },
          "metadata": {},
          "execution_count": 10
        }
      ]
    },
    {
      "cell_type": "code",
      "source": [
        "#@title Return multiple values from functions(The returned thing is a tuple!)"
      ],
      "metadata": {
        "id": "mmmONDM9tc2T"
      },
      "execution_count": 11,
      "outputs": []
    },
    {
      "cell_type": "code",
      "source": [
        "a=(1,2,3,4,5,6)\n",
        "a=[1,2,3,4]\n",
        "a.append(4)\n",
        "a.append(3)\n",
        "print(a)"
      ],
      "metadata": {
        "colab": {
          "base_uri": "https://localhost:8080/"
        },
        "id": "8lw3LU4NtfVV",
        "outputId": "df68b561-aab4-4202-9547-7f1324d025fe"
      },
      "execution_count": 12,
      "outputs": [
        {
          "output_type": "stream",
          "name": "stdout",
          "text": [
            "[1, 2, 3, 4, 4, 3]\n"
          ]
        }
      ]
    },
    {
      "cell_type": "code",
      "source": [
        "#@title Dictionary\n",
        "'''py [1,2,3,4] here we cannot change index number a[0]'''\n",
        "'''a=dict()\n",
        "a[\"name\"]\n",
        "a[1]\n",
        "a[(1,2)]'''"
      ],
      "metadata": {
        "colab": {
          "base_uri": "https://localhost:8080/",
          "height": 35
        },
        "id": "KGsijzQ5thYY",
        "outputId": "6880fc0f-de01-4fa3-c260-cf6910372054"
      },
      "execution_count": 13,
      "outputs": [
        {
          "output_type": "execute_result",
          "data": {
            "text/plain": [
              "'a=dict()\\na[\"name\"]\\na[1]\\na[(1,2)]'"
            ],
            "application/vnd.google.colaboratory.intrinsic+json": {
              "type": "string"
            }
          },
          "metadata": {},
          "execution_count": 13
        }
      ]
    },
    {
      "cell_type": "code",
      "source": [
        "a={\n",
        "    \"name\":\"Jatin Katyal\",\n",
        "    1:\"something\",\n",
        "   (1,2):\"tuple key wat?\"\n",
        "}\n",
        "a['name']\n"
      ],
      "metadata": {
        "colab": {
          "base_uri": "https://localhost:8080/",
          "height": 35
        },
        "id": "xGat03rHtjXo",
        "outputId": "78d2baa6-14ee-4e1f-faf9-80eb7feb9861"
      },
      "execution_count": 14,
      "outputs": [
        {
          "output_type": "execute_result",
          "data": {
            "text/plain": [
              "'Jatin Katyal'"
            ],
            "application/vnd.google.colaboratory.intrinsic+json": {
              "type": "string"
            }
          },
          "metadata": {},
          "execution_count": 14
        }
      ]
    },
    {
      "cell_type": "code",
      "source": [
        "a[1]"
      ],
      "metadata": {
        "colab": {
          "base_uri": "https://localhost:8080/",
          "height": 35
        },
        "id": "uQEGyjHntlWl",
        "outputId": "f8ede34c-3153-4ce1-baad-8be7dd7ee2a4"
      },
      "execution_count": 15,
      "outputs": [
        {
          "output_type": "execute_result",
          "data": {
            "text/plain": [
              "'something'"
            ],
            "application/vnd.google.colaboratory.intrinsic+json": {
              "type": "string"
            }
          },
          "metadata": {},
          "execution_count": 15
        }
      ]
    },
    {
      "cell_type": "code",
      "source": [
        "a[(1,2)]"
      ],
      "metadata": {
        "colab": {
          "base_uri": "https://localhost:8080/",
          "height": 35
        },
        "id": "NZrak9PBtnHe",
        "outputId": "4403e1c6-92b7-477a-ad47-0c9b5d560d4e"
      },
      "execution_count": 16,
      "outputs": [
        {
          "output_type": "execute_result",
          "data": {
            "text/plain": [
              "'tuple key wat?'"
            ],
            "application/vnd.google.colaboratory.intrinsic+json": {
              "type": "string"
            }
          },
          "metadata": {},
          "execution_count": 16
        }
      ]
    },
    {
      "cell_type": "code",
      "source": [
        "a={\n",
        "    [1,2]:\"something\"\n",
        "}"
      ],
      "metadata": {
        "colab": {
          "base_uri": "https://localhost:8080/",
          "height": 200
        },
        "id": "YVO07QuEtpAk",
        "outputId": "04271193-8016-4c05-bb16-738054da5fb3"
      },
      "execution_count": 17,
      "outputs": [
        {
          "output_type": "error",
          "ename": "TypeError",
          "evalue": "ignored",
          "traceback": [
            "\u001b[0;31m---------------------------------------------------------------------------\u001b[0m",
            "\u001b[0;31mTypeError\u001b[0m                                 Traceback (most recent call last)",
            "\u001b[0;32m<ipython-input-17-983d0aeaa608>\u001b[0m in \u001b[0;36m<module>\u001b[0;34m\u001b[0m\n\u001b[0;32m----> 1\u001b[0;31m a={\n\u001b[0m\u001b[1;32m      2\u001b[0m     \u001b[0;34m[\u001b[0m\u001b[0;36m1\u001b[0m\u001b[0;34m,\u001b[0m\u001b[0;36m2\u001b[0m\u001b[0;34m]\u001b[0m\u001b[0;34m:\u001b[0m\u001b[0;34m\"something\"\u001b[0m\u001b[0;34m\u001b[0m\u001b[0;34m\u001b[0m\u001b[0m\n\u001b[1;32m      3\u001b[0m }\n",
            "\u001b[0;31mTypeError\u001b[0m: unhashable type: 'list'"
          ]
        }
      ]
    },
    {
      "cell_type": "code",
      "source": [
        "#@title Some impotant dict method\n",
        "# . get()\n",
        "# . items()\n",
        "# . keys()\n",
        "# . values()\n",
        "# . clear()"
      ],
      "metadata": {
        "id": "Xypavy-ztrQG"
      },
      "execution_count": 18,
      "outputs": []
    },
    {
      "cell_type": "code",
      "source": [
        "c={\n",
        "    \"n\" :\"Jatin Katyal\"\n",
        "}\n",
        "c[\"n\"]=\"Gourav\"\n",
        "print(c)"
      ],
      "metadata": {
        "colab": {
          "base_uri": "https://localhost:8080/"
        },
        "id": "IvkrWeSmttVv",
        "outputId": "e3ae004b-ee80-460f-fe6b-c909b3d8025b"
      },
      "execution_count": 19,
      "outputs": [
        {
          "output_type": "stream",
          "name": "stdout",
          "text": [
            "{'n': 'Gourav'}\n"
          ]
        }
      ]
    },
    {
      "cell_type": "code",
      "source": [
        "d={\n",
        "     \"n\":\"jatin\",\n",
        "     \"Company\":\"shuttl\",\n",
        "     \"College\":\"IPU\"\n",
        " }\n",
        "d['College']"
      ],
      "metadata": {
        "colab": {
          "base_uri": "https://localhost:8080/",
          "height": 35
        },
        "id": "RqO0KjditvY_",
        "outputId": "1f265438-d9a3-4fd8-8d62-413ca0fa1143"
      },
      "execution_count": 20,
      "outputs": [
        {
          "output_type": "execute_result",
          "data": {
            "text/plain": [
              "'IPU'"
            ],
            "application/vnd.google.colaboratory.intrinsic+json": {
              "type": "string"
            }
          },
          "metadata": {},
          "execution_count": 20
        }
      ]
    },
    {
      "cell_type": "code",
      "source": [
        "d[\"Company\"]"
      ],
      "metadata": {
        "colab": {
          "base_uri": "https://localhost:8080/",
          "height": 35
        },
        "id": "MWCAO91DtyQn",
        "outputId": "90da00eb-6282-4cc7-d729-5d7f20ea9e05"
      },
      "execution_count": 21,
      "outputs": [
        {
          "output_type": "execute_result",
          "data": {
            "text/plain": [
              "'shuttl'"
            ],
            "application/vnd.google.colaboratory.intrinsic+json": {
              "type": "string"
            }
          },
          "metadata": {},
          "execution_count": 21
        }
      ]
    },
    {
      "cell_type": "code",
      "source": [
        "d[\"marks\"]"
      ],
      "metadata": {
        "colab": {
          "base_uri": "https://localhost:8080/",
          "height": 165
        },
        "id": "CN-b56x2t0JT",
        "outputId": "cc35972b-2e63-4ea6-bf69-631456c2b764"
      },
      "execution_count": 22,
      "outputs": [
        {
          "output_type": "error",
          "ename": "KeyError",
          "evalue": "ignored",
          "traceback": [
            "\u001b[0;31m---------------------------------------------------------------------------\u001b[0m",
            "\u001b[0;31mKeyError\u001b[0m                                  Traceback (most recent call last)",
            "\u001b[0;32m<ipython-input-22-41cc0062244e>\u001b[0m in \u001b[0;36m<module>\u001b[0;34m\u001b[0m\n\u001b[0;32m----> 1\u001b[0;31m \u001b[0md\u001b[0m\u001b[0;34m[\u001b[0m\u001b[0;34m\"marks\"\u001b[0m\u001b[0;34m]\u001b[0m\u001b[0;34m\u001b[0m\u001b[0;34m\u001b[0m\u001b[0m\n\u001b[0m",
            "\u001b[0;31mKeyError\u001b[0m: 'marks'"
          ]
        }
      ]
    },
    {
      "cell_type": "code",
      "source": [
        "key=\"marks\"\n",
        "if key in d:\n",
        "  print(d[key])\n",
        "else:\n",
        "  print(\"key doesn't exist\")"
      ],
      "metadata": {
        "colab": {
          "base_uri": "https://localhost:8080/"
        },
        "id": "K-wu9b86t2Hg",
        "outputId": "d9f373c5-837b-43e7-ee35-5ed826988431"
      },
      "execution_count": 23,
      "outputs": [
        {
          "output_type": "stream",
          "name": "stdout",
          "text": [
            "key doesn't exist\n"
          ]
        }
      ]
    },
    {
      "cell_type": "code",
      "source": [
        "key=\"marks\"\n",
        "print(a.get(key))"
      ],
      "metadata": {
        "colab": {
          "base_uri": "https://localhost:8080/"
        },
        "id": "QOWRxiQCt4Vv",
        "outputId": "5d603c3d-b156-4e3d-97b1-667480294ecf"
      },
      "execution_count": 24,
      "outputs": [
        {
          "output_type": "stream",
          "name": "stdout",
          "text": [
            "None\n"
          ]
        }
      ]
    },
    {
      "cell_type": "code",
      "source": [
        "key=\"marks\"\n",
        "print(a.get(key,\"key doesn't exist\"))"
      ],
      "metadata": {
        "colab": {
          "base_uri": "https://localhost:8080/"
        },
        "id": "-d5FEpKQt6ix",
        "outputId": "05ad1884-b36b-4e84-9e23-7752ff2eded8"
      },
      "execution_count": 25,
      "outputs": [
        {
          "output_type": "stream",
          "name": "stdout",
          "text": [
            "key doesn't exist\n"
          ]
        }
      ]
    },
    {
      "cell_type": "code",
      "source": [
        "key=\"n\"\n",
        "print(a.get(key,\"key doesn't exist\"))"
      ],
      "metadata": {
        "colab": {
          "base_uri": "https://localhost:8080/"
        },
        "id": "fTuRmnjZt8u6",
        "outputId": "2f16dbac-d118-409d-ccd2-a7816961b410"
      },
      "execution_count": 26,
      "outputs": [
        {
          "output_type": "stream",
          "name": "stdout",
          "text": [
            "key doesn't exist\n"
          ]
        }
      ]
    },
    {
      "cell_type": "code",
      "source": [
        "d.keys()"
      ],
      "metadata": {
        "colab": {
          "base_uri": "https://localhost:8080/"
        },
        "id": "v7KPXSgtt_C8",
        "outputId": "7ec28974-7598-4390-ebe3-fce3672ab503"
      },
      "execution_count": 27,
      "outputs": [
        {
          "output_type": "execute_result",
          "data": {
            "text/plain": [
              "dict_keys(['n', 'Company', 'College'])"
            ]
          },
          "metadata": {},
          "execution_count": 27
        }
      ]
    },
    {
      "cell_type": "code",
      "source": [
        "d.values()"
      ],
      "metadata": {
        "colab": {
          "base_uri": "https://localhost:8080/"
        },
        "id": "Ktu4xNf5uBQ2",
        "outputId": "e6bb4ff5-66c3-4ed5-818f-7e02cad5e8a7"
      },
      "execution_count": 28,
      "outputs": [
        {
          "output_type": "execute_result",
          "data": {
            "text/plain": [
              "dict_values(['jatin', 'shuttl', 'IPU'])"
            ]
          },
          "metadata": {},
          "execution_count": 28
        }
      ]
    },
    {
      "cell_type": "code",
      "source": [
        "for x in d.items():\n",
        "  print(x)"
      ],
      "metadata": {
        "colab": {
          "base_uri": "https://localhost:8080/"
        },
        "id": "lem2XRSkuDwC",
        "outputId": "e88f00f8-9f08-44f0-d0f8-f9b6dce5e30a"
      },
      "execution_count": 29,
      "outputs": [
        {
          "output_type": "stream",
          "name": "stdout",
          "text": [
            "('n', 'jatin')\n",
            "('Company', 'shuttl')\n",
            "('College', 'IPU')\n"
          ]
        }
      ]
    },
    {
      "cell_type": "code",
      "source": [
        "for x,value in d.items():\n",
        "  print(x,\"->\",value)"
      ],
      "metadata": {
        "colab": {
          "base_uri": "https://localhost:8080/"
        },
        "id": "NWR3PSrHuGjD",
        "outputId": "334100ba-8f93-447b-d8f9-4a45318308b6"
      },
      "execution_count": 30,
      "outputs": [
        {
          "output_type": "stream",
          "name": "stdout",
          "text": [
            "n -> jatin\n",
            "Company -> shuttl\n",
            "College -> IPU\n"
          ]
        }
      ]
    },
    {
      "cell_type": "code",
      "source": [
        "d"
      ],
      "metadata": {
        "colab": {
          "base_uri": "https://localhost:8080/"
        },
        "id": "hioPX5gCuIqX",
        "outputId": "fc58e6f9-cab1-42b8-9cbd-0613d9c33337"
      },
      "execution_count": 31,
      "outputs": [
        {
          "output_type": "execute_result",
          "data": {
            "text/plain": [
              "{'n': 'jatin', 'Company': 'shuttl', 'College': 'IPU'}"
            ]
          },
          "metadata": {},
          "execution_count": 31
        }
      ]
    },
    {
      "cell_type": "code",
      "source": [
        "\"n\" in d"
      ],
      "metadata": {
        "colab": {
          "base_uri": "https://localhost:8080/"
        },
        "id": "bE-iUMaMuKqt",
        "outputId": "662ba3cd-5550-4eab-93ce-7bd80a95f72b"
      },
      "execution_count": 32,
      "outputs": [
        {
          "output_type": "execute_result",
          "data": {
            "text/plain": [
              "True"
            ]
          },
          "metadata": {},
          "execution_count": 32
        }
      ]
    },
    {
      "cell_type": "code",
      "source": [
        "for x in d:\n",
        "  print(x)"
      ],
      "metadata": {
        "colab": {
          "base_uri": "https://localhost:8080/"
        },
        "id": "_OiDGX76uMml",
        "outputId": "3af795a8-32e6-4f03-a1a8-9636dd463209"
      },
      "execution_count": 33,
      "outputs": [
        {
          "output_type": "stream",
          "name": "stdout",
          "text": [
            "n\n",
            "Company\n",
            "College\n"
          ]
        }
      ]
    },
    {
      "cell_type": "code",
      "source": [
        "list(d)"
      ],
      "metadata": {
        "colab": {
          "base_uri": "https://localhost:8080/"
        },
        "id": "UhgK8OQOuOlp",
        "outputId": "59b5187c-7706-4e3b-d295-1584cb61cea2"
      },
      "execution_count": 34,
      "outputs": [
        {
          "output_type": "execute_result",
          "data": {
            "text/plain": [
              "['n', 'Company', 'College']"
            ]
          },
          "metadata": {},
          "execution_count": 34
        }
      ]
    },
    {
      "cell_type": "code",
      "source": [
        "# Challenge\n",
        "# Write a simple program which inputs and store the data about university students as a list of dictionaries. your final record structure should look like this:\n",
        "# [\n",
        "#     {\n",
        "#         'roll-no':1211,\n",
        "#      'name':'Ravi'\n",
        "#      'branch':'cse'\n",
        "#     }\n",
        "#     {\n",
        "#         'roll-no':202,\n",
        "#      'name':'Abhishek'\n",
        "#      'branch':'SE'\n",
        "#     }\n",
        "#     {\n",
        "#         'roll-no':1202,\n",
        "#      'name':'Sachin'\n",
        "#      'branch':'IT'\n",
        "#     }\n",
        "# ]"
      ],
      "metadata": {
        "id": "vLgREXUyuQoe"
      },
      "execution_count": 35,
      "outputs": []
    },
    {
      "cell_type": "code",
      "source": [
        "students = []  # create an empty list to store student records\n",
        "\n",
        "num_students = int(input(\"Enter the number of students: \"))\n",
        "\n",
        "# input and store student records\n",
        "for i in range(num_students):\n",
        "    # create an empty dictionary to store student information\n",
        "    student = {}\n",
        "    \n",
        "    # input and store student information\n",
        "    student['roll-no'] = input(\"Enter student roll-no.: \")\n",
        "    student['name'] = input(\"Enter student name: \")\n",
        "    student['branch'] = input(\"Enter student branch: \")\n",
        "    \n",
        "    # append student dictionary to the list of students\n",
        "    students.append(student)\n",
        "    \n",
        "# print student records\n",
        "for student in students:\n",
        "    print(f\"roll-no: {student['roll-no']}\")\n",
        "    print(f\"name: {student['name']}\")\n",
        "    print(f\"branch: {student['branch']}\")"
      ],
      "metadata": {
        "colab": {
          "base_uri": "https://localhost:8080/"
        },
        "id": "3Dl4lv2IuVMd",
        "outputId": "cb0c2f22-0dfb-45f0-a6f6-b2d8363cca66"
      },
      "execution_count": 36,
      "outputs": [
        {
          "output_type": "stream",
          "name": "stdout",
          "text": [
            "Enter the number of students: 3\n",
            "Enter student roll-no.: 67\n",
            "Enter student name: shivam\n",
            "Enter student branch: cse\n",
            "Enter student roll-no.: 57\n",
            "Enter student name: yash\n",
            "Enter student branch: cs\n",
            "Enter student roll-no.: 34\n",
            "Enter student name: ashu\n",
            "Enter student branch: ece\n",
            "roll-no: 67\n",
            "name: shivam\n",
            "branch: cse\n",
            "roll-no: 57\n",
            "name: yash\n",
            "branch: cs\n",
            "roll-no: 34\n",
            "name: ashu\n",
            "branch: ece\n"
          ]
        }
      ]
    }
  ]
}