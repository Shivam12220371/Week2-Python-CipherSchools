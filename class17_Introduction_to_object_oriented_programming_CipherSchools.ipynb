{
  "nbformat": 4,
  "nbformat_minor": 0,
  "metadata": {
    "colab": {
      "provenance": [],
      "authorship_tag": "ABX9TyN05QrfjicC/WMbw5f1dnIm",
      "include_colab_link": true
    },
    "kernelspec": {
      "name": "python3",
      "display_name": "Python 3"
    },
    "language_info": {
      "name": "python"
    }
  },
  "cells": [
    {
      "cell_type": "markdown",
      "metadata": {
        "id": "view-in-github",
        "colab_type": "text"
      },
      "source": [
        "<a href=\"https://colab.research.google.com/github/Shivam12220371/Week2-Python-CipherSchools/blob/main/class17_Introduction_to_object_oriented_programming_CipherSchools.ipynb\" target=\"_parent\"><img src=\"https://colab.research.google.com/assets/colab-badge.svg\" alt=\"Open In Colab\"/></a>"
      ]
    },
    {
      "cell_type": "code",
      "execution_count": null,
      "metadata": {
        "id": "6RNOnsZ6lM5t"
      },
      "outputs": [],
      "source": [
        "#object orientated programming language"
      ]
    },
    {
      "cell_type": "code",
      "source": [
        "#Abstraction\n",
        "#Encapsulation\n",
        "#inheitence\n",
        "#polymorphism\n",
        "     "
      ],
      "metadata": {
        "id": "xn_2c1AGloDq"
      },
      "execution_count": null,
      "outputs": []
    },
    {
      "cell_type": "code",
      "source": [
        "#Abstraction = need to know basis"
      ],
      "metadata": {
        "id": "BZqNQS1elqAZ"
      },
      "execution_count": null,
      "outputs": []
    },
    {
      "cell_type": "code",
      "source": [
        "student1 = {\n",
        "    \"name\":\"Jatin Katyal\",\n",
        "    \"marks\": 50\n",
        "}\n",
        "student2 = {\n",
        "    \"name\": \"Samarth\",\n",
        "    \"marks\": 100\n",
        "}"
      ],
      "metadata": {
        "id": "o4G5m2VBlsJh"
      },
      "execution_count": 1,
      "outputs": []
    },
    {
      "cell_type": "code",
      "source": [
        "print()"
      ],
      "metadata": {
        "colab": {
          "base_uri": "https://localhost:8080/"
        },
        "id": "dM_C35neluiD",
        "outputId": "559c7ae9-2207-4752-8434-8f9fe9b9107a"
      },
      "execution_count": 2,
      "outputs": [
        {
          "output_type": "stream",
          "name": "stdout",
          "text": [
            "\n"
          ]
        }
      ]
    },
    {
      "cell_type": "code",
      "source": [
        "#A minimal example of class"
      ],
      "metadata": {
        "id": "CSAy8WLXlwXP"
      },
      "execution_count": null,
      "outputs": []
    },
    {
      "cell_type": "code",
      "source": [
        "#python object can have multiple attributes\n",
        "\n",
        "#-collable(e.g. functions and classes)\n",
        "#-iterable(e.g. list,string and generator)\n",
        "#-contextable(e.g. files)"
      ],
      "metadata": {
        "id": "mbxQeDholylV"
      },
      "execution_count": null,
      "outputs": []
    },
    {
      "cell_type": "code",
      "source": [
        "a()"
      ],
      "metadata": {
        "colab": {
          "base_uri": "https://localhost:8080/",
          "height": 165
        },
        "id": "FMGdu1yMl1Y7",
        "outputId": "581e2492-ed51-4a1f-c7fa-b4300bc9bf5d"
      },
      "execution_count": 3,
      "outputs": [
        {
          "output_type": "error",
          "ename": "NameError",
          "evalue": "ignored",
          "traceback": [
            "\u001b[0;31m---------------------------------------------------------------------------\u001b[0m",
            "\u001b[0;31mNameError\u001b[0m                                 Traceback (most recent call last)",
            "\u001b[0;32m<ipython-input-3-8d7b4527e81d>\u001b[0m in \u001b[0;36m<module>\u001b[0;34m\u001b[0m\n\u001b[0;32m----> 1\u001b[0;31m \u001b[0ma\u001b[0m\u001b[0;34m(\u001b[0m\u001b[0;34m)\u001b[0m\u001b[0;34m\u001b[0m\u001b[0;34m\u001b[0m\u001b[0m\n\u001b[0m",
            "\u001b[0;31mNameError\u001b[0m: name 'a' is not defined"
          ]
        }
      ]
    },
    {
      "cell_type": "code",
      "source": [
        "class person:\n",
        "  pass\n",
        "\n",
        "p = person()\n",
        "print(p)"
      ],
      "metadata": {
        "colab": {
          "base_uri": "https://localhost:8080/"
        },
        "id": "0IbxBXAHl3WL",
        "outputId": "3f138d2d-c6a8-4310-eb97-7c4f4d9d79e5"
      },
      "execution_count": 4,
      "outputs": [
        {
          "output_type": "stream",
          "name": "stdout",
          "text": [
            "<__main__.person object at 0x7fd85160b700>\n"
          ]
        }
      ]
    },
    {
      "cell_type": "code",
      "source": [
        "hex(id(p))"
      ],
      "metadata": {
        "colab": {
          "base_uri": "https://localhost:8080/",
          "height": 35
        },
        "id": "ndBfz_hOl5kb",
        "outputId": "2e30924f-4e12-485d-b69a-23c66047e59f"
      },
      "execution_count": 5,
      "outputs": [
        {
          "output_type": "execute_result",
          "data": {
            "text/plain": [
              "'0x7fd85160b700'"
            ],
            "application/vnd.google.colaboratory.intrinsic+json": {
              "type": "string"
            }
          },
          "metadata": {},
          "execution_count": 5
        }
      ]
    },
    {
      "cell_type": "code",
      "source": [
        "a=1"
      ],
      "metadata": {
        "id": "N5Wyvcpml7eH"
      },
      "execution_count": 6,
      "outputs": []
    },
    {
      "cell_type": "code",
      "source": [
        "a.square"
      ],
      "metadata": {
        "colab": {
          "base_uri": "https://localhost:8080/",
          "height": 165
        },
        "id": "jZu1jvA9l-bG",
        "outputId": "932560e3-8d50-43b4-ebe6-14c0f1a8056d"
      },
      "execution_count": 7,
      "outputs": [
        {
          "output_type": "error",
          "ename": "AttributeError",
          "evalue": "ignored",
          "traceback": [
            "\u001b[0;31m---------------------------------------------------------------------------\u001b[0m",
            "\u001b[0;31mAttributeError\u001b[0m                            Traceback (most recent call last)",
            "\u001b[0;32m<ipython-input-7-1258e99bc9c6>\u001b[0m in \u001b[0;36m<module>\u001b[0;34m\u001b[0m\n\u001b[0;32m----> 1\u001b[0;31m \u001b[0ma\u001b[0m\u001b[0;34m.\u001b[0m\u001b[0msquare\u001b[0m\u001b[0;34m\u001b[0m\u001b[0;34m\u001b[0m\u001b[0m\n\u001b[0m",
            "\u001b[0;31mAttributeError\u001b[0m: 'int' object has no attribute 'square'"
          ]
        }
      ]
    },
    {
      "cell_type": "code",
      "source": [
        "class person:\n",
        "  name=\"Jatin\"\n",
        "  def say_hi(self):\n",
        "    self.name=\"Nikhil\"\n",
        "    print(\"Hello,how are you\"+self.name +\"2\")\n",
        "\n",
        "p=person()\n",
        "\n",
        "p.say_hi\n",
        "person.say_hi(p)"
      ],
      "metadata": {
        "colab": {
          "base_uri": "https://localhost:8080/"
        },
        "id": "H2kw8N94mAgF",
        "outputId": "fa2a12a5-9315-4011-f3c3-9b7b6059e879"
      },
      "execution_count": 8,
      "outputs": [
        {
          "output_type": "stream",
          "name": "stdout",
          "text": [
            "Hello,how are youNikhil2\n"
          ]
        }
      ]
    },
    {
      "cell_type": "code",
      "source": [
        "class person:\n",
        "  name=\"Jatin\"\n",
        "\n",
        "  def say_hi(this):\n",
        "    print(f\"Hello Everyone : I am {this.name}\" )\n",
        "\n",
        "p=person()\n",
        "\n",
        "p.say_hi #method cell\n",
        "person.say_hi(p) # function call"
      ],
      "metadata": {
        "colab": {
          "base_uri": "https://localhost:8080/"
        },
        "id": "ADrupxkQmC4d",
        "outputId": "cf5064d6-20ba-4832-c473-41109f43b84f"
      },
      "execution_count": 9,
      "outputs": [
        {
          "output_type": "stream",
          "name": "stdout",
          "text": [
            "Hello Everyone : I am Jatin\n"
          ]
        }
      ]
    }
  ]
}