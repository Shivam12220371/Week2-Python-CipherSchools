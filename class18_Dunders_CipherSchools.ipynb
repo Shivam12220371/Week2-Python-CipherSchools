{
  "nbformat": 4,
  "nbformat_minor": 0,
  "metadata": {
    "colab": {
      "provenance": [],
      "authorship_tag": "ABX9TyPVzsZ1GhGWqEJ95CkHKeSn",
      "include_colab_link": true
    },
    "kernelspec": {
      "name": "python3",
      "display_name": "Python 3"
    },
    "language_info": {
      "name": "python"
    }
  },
  "cells": [
    {
      "cell_type": "markdown",
      "metadata": {
        "id": "view-in-github",
        "colab_type": "text"
      },
      "source": [
        "<a href=\"https://colab.research.google.com/github/Shivam12220371/Week2-Python-CipherSchools/blob/main/class18_Dunders_CipherSchools.ipynb\" target=\"_parent\"><img src=\"https://colab.research.google.com/assets/colab-badge.svg\" alt=\"Open In Colab\"/></a>"
      ]
    },
    {
      "cell_type": "code",
      "execution_count": 1,
      "metadata": {
        "colab": {
          "base_uri": "https://localhost:8080/"
        },
        "id": "t6UIXlherdl7",
        "outputId": "23186479-cd97-4496-fd1e-b5acda7e4ea4"
      },
      "outputs": [
        {
          "output_type": "stream",
          "name": "stdout",
          "text": [
            "hello, my name is Nikhil\n"
          ]
        }
      ],
      "source": [
        "# Dunders(magic methods)(event methods)\n",
        "#____\n",
        "class Person:\n",
        "  def __init__(self,name):\n",
        "    self.name=name\n",
        "  def say_hi(self):\n",
        "      print('hello, my name is',self.name)\n",
        "P=Person('Nikhil')\n",
        "P.say_hi()\n",
        "     "
      ]
    },
    {
      "cell_type": "code",
      "source": [
        "class A:\n",
        "  def __init__(self):\n",
        "    print(self)\n",
        "    print(\"initialized\")\n",
        "  def __del__(self):\n",
        "    print(self)\n",
        "    print(\"I am dying\")\n",
        "a=A()"
      ],
      "metadata": {
        "colab": {
          "base_uri": "https://localhost:8080/"
        },
        "id": "zsZk9gxar0MF",
        "outputId": "5d4afbc3-922b-4a9d-b373-b21811cb5eb6"
      },
      "execution_count": 2,
      "outputs": [
        {
          "output_type": "stream",
          "name": "stdout",
          "text": [
            "<__main__.A object at 0x7f7ced1db250>\n",
            "initialized\n"
          ]
        }
      ]
    },
    {
      "cell_type": "code",
      "source": [
        "a=1\n",
        "print(type(a))\n",
        "a+5\n",
        "a.__add__(5)"
      ],
      "metadata": {
        "colab": {
          "base_uri": "https://localhost:8080/"
        },
        "id": "GV7-Vzatr953",
        "outputId": "bfd04cab-cc14-4e1b-8902-ef0fdce10d8d"
      },
      "execution_count": 3,
      "outputs": [
        {
          "output_type": "stream",
          "name": "stdout",
          "text": [
            "<class 'int'>\n"
          ]
        },
        {
          "output_type": "execute_result",
          "data": {
            "text/plain": [
              "6"
            ]
          },
          "metadata": {},
          "execution_count": 3
        },
        {
          "output_type": "stream",
          "name": "stdout",
          "text": [
            "<__main__.A object at 0x7f7ced1db250>\n",
            "I am dying\n"
          ]
        }
      ]
    },
    {
      "cell_type": "code",
      "source": [
        "\"jatin\"*2"
      ],
      "metadata": {
        "colab": {
          "base_uri": "https://localhost:8080/",
          "height": 35
        },
        "id": "U6f41svSr_Ci",
        "outputId": "74533287-e1b6-4044-c757-1bef8e82fc6d"
      },
      "execution_count": 4,
      "outputs": [
        {
          "output_type": "execute_result",
          "data": {
            "text/plain": [
              "'jatinjatin'"
            ],
            "application/vnd.google.colaboratory.intrinsic+json": {
              "type": "string"
            }
          },
          "metadata": {},
          "execution_count": 4
        }
      ]
    },
    {
      "cell_type": "code",
      "source": [
        "\"jatin\".__mul__(2)"
      ],
      "metadata": {
        "colab": {
          "base_uri": "https://localhost:8080/",
          "height": 35
        },
        "id": "BCNfEjA8sB_j",
        "outputId": "ad194321-ec89-4595-8ee9-fd9d38a05997"
      },
      "execution_count": 5,
      "outputs": [
        {
          "output_type": "execute_result",
          "data": {
            "text/plain": [
              "'jatinjatin'"
            ],
            "application/vnd.google.colaboratory.intrinsic+json": {
              "type": "string"
            }
          },
          "metadata": {},
          "execution_count": 5
        }
      ]
    },
    {
      "cell_type": "code",
      "source": [
        "class A:\n",
        "  a=1\n",
        "  b=2\n",
        "\n",
        "  def __add__(self,x):\n",
        "    return self.a+self.b+x\n",
        "a=A()\n",
        "a+3"
      ],
      "metadata": {
        "colab": {
          "base_uri": "https://localhost:8080/"
        },
        "id": "r_CCYz48sFHe",
        "outputId": "a463a013-3592-4b23-de7e-c1aac4068116"
      },
      "execution_count": 6,
      "outputs": [
        {
          "output_type": "execute_result",
          "data": {
            "text/plain": [
              "6"
            ]
          },
          "metadata": {},
          "execution_count": 6
        }
      ]
    }
  ]
}